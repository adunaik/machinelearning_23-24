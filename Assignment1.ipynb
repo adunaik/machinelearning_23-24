{
  "nbformat": 4,
  "nbformat_minor": 0,
  "metadata": {
    "colab": {
      "provenance": []
    },
    "kernelspec": {
      "name": "python3",
      "display_name": "Python 3"
    },
    "language_info": {
      "name": "python"
    }
  },
  "cells": [
    {
      "cell_type": "code",
      "execution_count": null,
      "metadata": {
        "id": "5tDAPFjFCOqx"
      },
      "outputs": [],
      "source": []
    },
    {
      "cell_type": "markdown",
      "source": [
        "AREA OF CIRCLE"
      ],
      "metadata": {
        "id": "E8KR6HFeCc19"
      }
    },
    {
      "cell_type": "code",
      "source": [
        "r=5\n",
        "area=3.14*r*r\n",
        "print(area)"
      ],
      "metadata": {
        "colab": {
          "base_uri": "https://localhost:8080/"
        },
        "id": "FjATn0t8CfKx",
        "outputId": "b0bfc02d-2e5c-4218-8187-5383716c4a93"
      },
      "execution_count": 1,
      "outputs": [
        {
          "output_type": "stream",
          "name": "stdout",
          "text": [
            "78.5\n"
          ]
        }
      ]
    },
    {
      "cell_type": "markdown",
      "source": [
        "DAY OF THE WEEK"
      ],
      "metadata": {
        "id": "FEmvyLdACnpa"
      }
    },
    {
      "cell_type": "code",
      "source": [
        "day=int(input(\"Enter the day of week number\"))\n",
        "if day==1:\n",
        "  print(\"The day is Monday\")\n",
        "elif day==2:\n",
        "  print(\"The day is Tuesday\")\n",
        "elif day==3:\n",
        "  print(\"The day is Wednasday\")\n",
        "elif day==4:\n",
        "  print(\"The day is Thursday\")\n",
        "elif day==5:\n",
        "  print(\"The day is Friday\")\n",
        "elif day==6:\n",
        "  print(\"The day is Saturday\")\n",
        "elif day==7:\n",
        "  print(\"The day is Sunday\")\n",
        "else:\n",
        "  print(\"Enter valid number\")\n"
      ],
      "metadata": {
        "colab": {
          "base_uri": "https://localhost:8080/"
        },
        "id": "56d6TiFSCzgE",
        "outputId": "8dcfaaa7-d400-49b0-d612-500719267970"
      },
      "execution_count": 4,
      "outputs": [
        {
          "output_type": "stream",
          "name": "stdout",
          "text": [
            "Enter the day of week number4\n",
            "The day is Thursday\n"
          ]
        }
      ]
    },
    {
      "cell_type": "code",
      "source": [],
      "metadata": {
        "id": "m3w1J7cMDfdm"
      },
      "execution_count": null,
      "outputs": []
    },
    {
      "cell_type": "markdown",
      "source": [
        "AREA OF RECTANGLE\n"
      ],
      "metadata": {
        "id": "WeyprZ1HEAEo"
      }
    },
    {
      "cell_type": "code",
      "source": [
        "l=5\n",
        "b=10\n",
        "area_rect=l*b\n",
        "print(area_rect)"
      ],
      "metadata": {
        "colab": {
          "base_uri": "https://localhost:8080/"
        },
        "id": "Jdpc42tJEJxU",
        "outputId": "37dd4450-d027-443a-d5ff-f4e85153fe27"
      },
      "execution_count": 6,
      "outputs": [
        {
          "output_type": "stream",
          "name": "stdout",
          "text": [
            "50\n"
          ]
        }
      ]
    },
    {
      "cell_type": "markdown",
      "source": [
        "EVEN OR ODD"
      ],
      "metadata": {
        "id": "RTfrSp5OEOz5"
      }
    },
    {
      "cell_type": "code",
      "source": [
        "num=int(input(\"enter the number\"))\n",
        "if num%2==0:\n",
        "  print(\"the number is even\")\n",
        "else:\n",
        "  print(\"the number is odd\")"
      ],
      "metadata": {
        "colab": {
          "base_uri": "https://localhost:8080/"
        },
        "id": "fFF6vjbSDkD_",
        "outputId": "2e8ea015-a5e0-4464-e898-84a4785e9d18"
      },
      "execution_count": 5,
      "outputs": [
        {
          "output_type": "stream",
          "name": "stdout",
          "text": [
            "enter the number8\n",
            "the number is even\n"
          ]
        }
      ]
    },
    {
      "cell_type": "markdown",
      "source": [
        "simple intrest"
      ],
      "metadata": {
        "id": "gS0rLuOqH3ue"
      }
    },
    {
      "cell_type": "code",
      "source": [
        "p=int(input(\"enter the principle amount\"))\n",
        "t=int(input(\"enter time\"))\n",
        "r=int(input(\"enter rate of intrest\"))\n",
        "si=(p*t*r)/100\n",
        "print(si)"
      ],
      "metadata": {
        "colab": {
          "base_uri": "https://localhost:8080/"
        },
        "id": "Nx-sorcNKXU_",
        "outputId": "f392ce5b-38b1-44dc-ca41-7b4a37622bcb"
      },
      "execution_count": 10,
      "outputs": [
        {
          "output_type": "stream",
          "name": "stdout",
          "text": [
            "enter the principle amount5000\n",
            "enter time5\n",
            "enter rate of intrest4\n",
            "1000.0\n"
          ]
        }
      ]
    }
  ]
}